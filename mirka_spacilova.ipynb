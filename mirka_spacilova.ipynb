{
 "cells": [
  {
   "cell_type": "code",
   "execution_count": 1,
   "metadata": {},
   "outputs": [],
   "source": [
    "import pandas as pd\n",
    "import requests\n",
    "from bs4 import BeautifulSoup\n",
    "import matplotlib.pyplot as plt"
   ]
  },
  {
   "cell_type": "code",
   "execution_count": 3,
   "metadata": {},
   "outputs": [],
   "source": [
    " # Amount of pages with Mirka's review in time of writing this script\n",
    "num_pages = 44\n",
    "\n",
    "# List to save each rating\n",
    "ratings = []\n",
    "\n",
    "# Iterate though all pages and take all Mirka's ratings\n",
    "for i in range(1,num_pages+1):\n",
    "    r = requests.get(\"https://kultura.zpravy.idnes.cz/recenze-mirky-spacilove.aspx?strana={}\".format(i))\n",
    "    soup = BeautifulSoup(r.text, \"html.parser\")\n",
    "    spans = soup.find_all(class_=\"rating\")\n",
    "    ratings.extend([int(span.get_text().split(\" \")[0]) for span in spans])\n",
    "    r.close()\n",
    "\n",
    "mirkine_hodnotenia = pd.Series(ratings)"
   ]
  },
  {
   "cell_type": "code",
   "execution_count": 6,
   "metadata": {},
   "outputs": [
    {
     "data": {
      "image/png": "[encoded data removed]",
      "text/plain": [
       "<matplotlib.figure.Figure at 0x7f200fecc320>"
      ]
     },
     "metadata": {},
     "output_type": "display_data"
    }
   ],
   "source": [
    "# Histogram to prove that 60% is her favorite number\n",
    "mirkine_hodnotenia.hist()\n",
    "plt.show()"
   ]
  },
  {
   "cell_type": "code",
   "execution_count": 5,
   "metadata": {},
   "outputs": [
    {
     "data": {
      "text/plain": [
       "count    1551.000000\n",
       "mean       57.053514\n",
       "std        13.196641\n",
       "min         0.000000\n",
       "25%        50.000000\n",
       "50%        60.000000\n",
       "75%        65.000000\n",
       "max        90.000000\n",
       "dtype: float64"
      ]
     },
     "execution_count": 5,
     "metadata": {},
     "output_type": "execute_result"
    }
   ],
   "source": [
    "# Descriptive statistics of her ratings\n",
    "mirkine_hodnotenia.describe()"
   ]
  }
 ],
 "metadata": {
  "kernelspec": {
   "display_name": "Python 3",
   "language": "python",
   "name": "python3"
  },
  "language_info": {
   "codemirror_mode": {
    "name": "ipython",
    "version": 3
   },
   "file_extension": ".py",
   "mimetype": "text/x-python",
   "name": "python",
   "nbconvert_exporter": "python",
   "pygments_lexer": "ipython3",
   "version": "3.6.4"
  }
 },
 "nbformat": 4,
 "nbformat_minor": 2
}
